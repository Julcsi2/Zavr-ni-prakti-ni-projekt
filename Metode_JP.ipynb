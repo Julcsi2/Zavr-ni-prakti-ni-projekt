{
 "cells": [
  {
   "cell_type": "markdown",
   "id": "a24961ea",
   "metadata": {},
   "source": [
    "# Primjena tehnika smanjenja dimenzije podataka u klasifikaciji peludi"
   ]
  },
  {
   "cell_type": "code",
   "execution_count": 3,
   "id": "983cdf71",
   "metadata": {},
   "outputs": [],
   "source": [
    "import numpy as np\n",
    "import pandas as pd\n",
    "from sklearn.preprocessing import StandardScaler\n",
    "from sklearn.preprocessing import normalize\n",
    "from sklearn.model_selection import train_test_split\n",
    "from scipy.spatial import distance_matrix\n",
    "from sklearn.linear_model import LogisticRegression\n",
    "from sklearn.metrics import accuracy_score\n",
    "from sklearn.metrics import pairwise_distances\n",
    "import matplotlib.pyplot as plt"
   ]
  },
  {
   "cell_type": "markdown",
   "id": "88a087ba",
   "metadata": {},
   "source": [
    "Učitavanje podataka"
   ]
  },
  {
   "cell_type": "code",
   "execution_count": 2,
   "id": "ee99ff9e",
   "metadata": {},
   "outputs": [
    {
     "data": {
      "text/plain": [
       "<bound method NDFrame.head of                     Pollen Type                Time  Feature 1  Feature 2  \\\n",
       "0         Urtica Diocia (Plair) 2018-12-06 14:59:00         14         38   \n",
       "1         Urtica Diocia (Plair) 2018-12-06 14:59:00         -5        -21   \n",
       "2         Urtica Diocia (Plair) 2018-12-06 14:59:00         56         33   \n",
       "3         Urtica Diocia (Plair) 2018-12-06 14:59:00         26         46   \n",
       "4         Urtica Diocia (Plair) 2018-12-06 14:59:00         38         13   \n",
       "...                         ...                 ...        ...        ...   \n",
       "24112  Ambrosia Artemisifolia 2 2018-12-06 15:08:00         23         -1   \n",
       "24113  Ambrosia Artemisifolia 2 2018-12-06 15:08:00         66         52   \n",
       "24114  Ambrosia Artemisifolia 2 2018-12-06 15:08:00         12         35   \n",
       "24115  Ambrosia Artemisifolia 2 2018-12-06 15:08:00         62         56   \n",
       "24116  Ambrosia Artemisifolia 2 2018-12-06 15:08:00         50         35   \n",
       "\n",
       "       Feature 3  Feature 4  Feature 5  Feature 6  Feature 7  Feature 8  ...  \\\n",
       "0             62         56         50         26          1        -24  ...   \n",
       "1            -39        -25        -12         19         50         49  ...   \n",
       "2              9        -14        -39        -23         -9         -1  ...   \n",
       "3             66         51         36          2        -33        -14  ...   \n",
       "4            -13        -31        -51        -51        -53        -32  ...   \n",
       "...          ...        ...        ...        ...        ...        ...  ...   \n",
       "24112        -27        -41        -57        -53        -51        -22  ...   \n",
       "24113         38         21          3        -12        -29        -11  ...   \n",
       "24114         58         51         44         25          5        -17  ...   \n",
       "24115         50         25         -1        -16        -33        -22  ...   \n",
       "24116         19         -9        -39        -49        -61        -48  ...   \n",
       "\n",
       "       Feature 599  Feature 600  Feature 601  Feature 602  Feature 603  \\\n",
       "0          2768827      2473350      2609322      4302421      2794885   \n",
       "1          3818658      5456504      4194040      3176085      3665127   \n",
       "2          7164608      8551344      8677906      9737803      7358086   \n",
       "3          1766642      2190903      2454197      4270807      3845430   \n",
       "4           931645      1112715       704228       764633       659573   \n",
       "...            ...          ...          ...          ...          ...   \n",
       "24112      1350491      2066981      2289697      4084591      3943062   \n",
       "24113       467907        93153       445200       598680       843454   \n",
       "24114      6956652      4914105      6857383     10793189      6476729   \n",
       "24115       745001      2154476      2719744      7148780      6171464   \n",
       "24116       278630       612592      1034371      2255699      1518340   \n",
       "\n",
       "       Feature 604  Feature 605  Feature 606  Feature 607  Feature 608  \n",
       "0          5223227      7010459      6430835      5914081        92572  \n",
       "1          6135674      4173130      3669315      5847025      2336249  \n",
       "2          9329335      7507075      6531200      9310571      4174750  \n",
       "3          4015959      4324205      7207771      7296685      2311435  \n",
       "4           616588      1350111       401063       395979       463032  \n",
       "...            ...          ...          ...          ...          ...  \n",
       "24112      4422787      3899451      5945314      3453745            0  \n",
       "24113      1006168       559990       149901       175936            0  \n",
       "24114      7708394      8455246     10713249     10306021            0  \n",
       "24115      5708464      7568384      7212097      9799684      8382606  \n",
       "24116      1954914            0            0        70022            0  \n",
       "\n",
       "[24117 rows x 610 columns]>"
      ]
     },
     "execution_count": 2,
     "metadata": {},
     "output_type": "execute_result"
    }
   ],
   "source": [
    "data=pd.read_excel(\"./pollen.xlsx\")\n",
    "data.head"
   ]
  },
  {
   "cell_type": "code",
   "execution_count": 4,
   "id": "c01f26dd",
   "metadata": {},
   "outputs": [],
   "source": [
    "X1 = data.drop(['Pollen Type','Time'], axis=1)\n",
    "scaler = StandardScaler()\n",
    "scaler.fit(X1)\n",
    "X1 = scaler.transform(X1)\n",
    "\n",
    "X1_train, X1_test, y1_train, y1_test = train_test_split(X1, data[['Pollen Type']], test_size=0.30, random_state=42)\n",
    "\n",
    "y1_train, y1_test = y1_train.to_numpy(), y1_test.to_numpy()"
   ]
  },
  {
   "cell_type": "code",
   "execution_count": 5,
   "id": "b7b2ac9a",
   "metadata": {},
   "outputs": [
    {
     "name": "stdout",
     "output_type": "stream",
     "text": [
      "Trening podaci: X=  (16881, 608)\n",
      "Trening podaci: y=  (16881, 1)\n",
      "Test podaci: X=  (7236, 608)\n",
      "Test podaci: y=  (7236, 1)\n"
     ]
    }
   ],
   "source": [
    "print(\"Trening podaci: X= \", X1_train.shape)\n",
    "print(\"Trening podaci: y= \", y1_train.shape)\n",
    "print(\"Test podaci: X= \", X1_test.shape)\n",
    "print(\"Test podaci: y= \", y1_test.shape)"
   ]
  },
  {
   "cell_type": "markdown",
   "id": "0d4d28ed",
   "metadata": {},
   "source": [
    "## 1. Analiza glavnih komponenti - PCA"
   ]
  },
  {
   "cell_type": "markdown",
   "id": "74aabb02",
   "metadata": {},
   "source": [
    "Podaci nam govore o klasifikaciji peludi. Mogu se podijeliti u 16 vrsta.\n",
    "\n",
    "Zbog velike dimenzije podataka, i za treniranje, i za testiranje, primjenit ću na njih metodu za smanjivanje dimenzije. "
   ]
  },
  {
   "cell_type": "code",
   "execution_count": 50,
   "id": "b6b49b98",
   "metadata": {},
   "outputs": [],
   "source": [
    "class impl_PCA():\n",
    "    def _init_(self): \n",
    "        self.components= None\n",
    "        self.mean= None\n",
    "        \n",
    "    def get_k(self,X):\n",
    "        cov_mat = np.cov(X.T)\n",
    "        eig_vals, _ = np.linalg.eig(cov_mat)\n",
    "        eig_vals[::-1].sort()\n",
    "        cummulative_variance = 0\n",
    "        for i,lam in enumerate(eig_vals):\n",
    "            cummulative_variance+= (lam/sum(eig_vals))\n",
    "            plt.scatter(i,cummulative_variance)\n",
    "            if cummulative_variance==0.9:         # želim da ostane sačuvano oko 90 posto varijance\n",
    "                self.n_components=i\n",
    "        \n",
    "    def fit(self, X, k):\n",
    "        # centralizacija podataka\n",
    "        self.mean=np.mean(X,axis=0)       \n",
    "        X=X-self.mean\n",
    "        \n",
    "        # kovarijacijska matrica\n",
    "        cov_mat = np.cov(X.T)\n",
    "        \n",
    "        # svojstvene vrijednosti i svojstveni vektori\n",
    "        eig_vals, eig_vecs = np.linalg.eig(cov_mat)\n",
    "        \n",
    "        # sortiranje svojstvenih vrijednosti                   \n",
    "        eig_vecs=eig_vecs.T\n",
    "        eig_vecs=eig_vecs[:,np.argsort(eig_vals)[::-1]]\n",
    "        \n",
    "        # spremanje prvih k elemenata matrice s kojom će se množiti podaci\n",
    "        self.components=eig_vecs[0:k]\n",
    "        \n",
    "    def transform(self, X):\n",
    "        X=X-self.mean\n",
    "        return np.dot(X,self.components.T)"
   ]
  },
  {
   "cell_type": "code",
   "execution_count": 62,
   "id": "20fcc871",
   "metadata": {},
   "outputs": [],
   "source": [
    "PCA=impl_PCA()\n",
    "PCA2=impl_PCA()"
   ]
  },
  {
   "cell_type": "code",
   "execution_count": 63,
   "id": "88ad8c40",
   "metadata": {},
   "outputs": [
    {
     "data": {
      "image/png": "[encoded data removed]",
      "text/plain": [
       "<Figure size 432x288 with 1 Axes>"
      ]
     },
     "metadata": {
      "needs_background": "light"
     },
     "output_type": "display_data"
    }
   ],
   "source": [
    "PCA.get_k(X1_train)   #Služi da vidimo koje bi k bilo najbolje uzeti"
   ]
  },
  {
   "cell_type": "code",
   "execution_count": 64,
   "id": "a9a1a96f",
   "metadata": {},
   "outputs": [],
   "source": [
    "PCA.fit(X1_train,k=400)     # Uočavamo da za k=400 imamo sačuvano približno 100% varijanci, dakle za k odabirem 400\n",
    "PCA2.fit(X1_test,k=400)"
   ]
  },
  {
   "cell_type": "code",
   "execution_count": 65,
   "id": "3ffac0f0",
   "metadata": {},
   "outputs": [],
   "source": [
    "T=PCA.transform(X1_train)   # Ovdje se smanjuje dimenzija\n",
    "Tt=PCA2.transform(X1_test)"
   ]
  },
  {
   "cell_type": "code",
   "execution_count": 66,
   "id": "673b5e81",
   "metadata": {},
   "outputs": [
    {
     "name": "stdout",
     "output_type": "stream",
     "text": [
      "(16881, 400)\n",
      "(16881, 608)\n",
      "(7236, 400)\n"
     ]
    }
   ],
   "source": [
    "print(T.shape)\n",
    "print(X1_train.shape)\n",
    "print(Tt.shape)"
   ]
  },
  {
   "cell_type": "markdown",
   "id": "fe215c3a",
   "metadata": {},
   "source": [
    "Model - koristit ću gotovu Logističku Regresiju iz sclearn-a."
   ]
  },
  {
   "cell_type": "markdown",
   "id": "8c5af579",
   "metadata": {},
   "source": [
    "Prvo ću ga pozvati na nepromijenjenim podacima, a nakon toga na promijenjenim.\n",
    "\n",
    "Računanjem točnosti, kod oba slučaja, želim vidjeti kolika je razlika."
   ]
  },
  {
   "cell_type": "code",
   "execution_count": 67,
   "id": "cf5d7309",
   "metadata": {},
   "outputs": [],
   "source": [
    "lg11=LogisticRegression(random_state=0,max_iter=4000).fit(X1_train,y1_train.ravel())"
   ]
  },
  {
   "cell_type": "code",
   "execution_count": 68,
   "id": "4b735cc4",
   "metadata": {},
   "outputs": [
    {
     "name": "stdout",
     "output_type": "stream",
     "text": [
      "Accuracy_score je kod podataka nepromijenjene dimenzije bio: \n",
      "0.5179657269209508\n"
     ]
    }
   ],
   "source": [
    "A=accuracy_score(y1_test,lg11.predict(X1_test))\n",
    "print(\"Accuracy_score je kod podataka nepromijenjene dimenzije bio: \")\n",
    "print(A)"
   ]
  },
  {
   "cell_type": "code",
   "execution_count": 69,
   "id": "9c0b5244",
   "metadata": {},
   "outputs": [
    {
     "name": "stdout",
     "output_type": "stream",
     "text": [
      "(16881, 400)\n",
      "(16881, 1)\n"
     ]
    }
   ],
   "source": [
    "print(T.shape)\n",
    "print(y1_train.shape)"
   ]
  },
  {
   "cell_type": "code",
   "execution_count": 70,
   "id": "bf542781",
   "metadata": {},
   "outputs": [],
   "source": [
    "lg12=LogisticRegression(random_state=0,max_iter=4000).fit(T[:,:],y1_train.ravel())"
   ]
  },
  {
   "cell_type": "code",
   "execution_count": 71,
   "id": "d9aad429",
   "metadata": {},
   "outputs": [
    {
     "data": {
      "text/plain": [
       "0.15865118850193477"
      ]
     },
     "execution_count": 71,
     "metadata": {},
     "output_type": "execute_result"
    }
   ],
   "source": [
    "accuracy_score(y1_test,lg12.predict(Tt))"
   ]
  },
  {
   "cell_type": "markdown",
   "id": "24145eba",
   "metadata": {},
   "source": [
    "### Zaključak"
   ]
  },
  {
   "cell_type": "markdown",
   "id": "5eb5e621",
   "metadata": {},
   "source": [
    "Smanjivanjem dimenzije morali smo paziti da ne izgubimo veliki broj svojstava i zato smo za dimenziju k, odabrali onakav k za koji je ostalo sačuvano približno 100% varijance. Inače se zna uzeti i da bude sačuvano 90% varijance. \n",
    "\n",
    "U mjerenju točnosti mogli smo vidjeti da je točnost jako loša i razlika je velika."
   ]
  },
  {
   "cell_type": "markdown",
   "id": "6a08f35e",
   "metadata": {},
   "source": [
    "## 2. Analiza nezavisnih komponenti - ICA  "
   ]
  },
  {
   "cell_type": "markdown",
   "id": "e66e425b",
   "metadata": {},
   "source": [
    "Koristit ću iste podatke koje sam koristila kod PCA metode.\n"
   ]
  },
  {
   "cell_type": "code",
   "execution_count": 51,
   "id": "cd535d19",
   "metadata": {},
   "outputs": [],
   "source": [
    "class impl_ICA():\n",
    "    def __init__(self):\n",
    "        self.T= None\n",
    "        \n",
    "    def fit(self, X, d, iteracija=2, razlika1=10000, step_size=1):\n",
    "        #određivanje veličina\n",
    "        m,n=X.shape\n",
    "        #broj_klasa=np.unique(y).shape[0]\n",
    "        \n",
    "        # random uzimanje prvih težina T\n",
    "        self.T=np.random.rand(d,m)           #za m*m mi je ispisalo da nema mjesta za 2.1GB memorije\n",
    "        \n",
    "        #iteriramo i za svaki iz težina T treba napraviti sljedeće\n",
    "        for kl in range(d):\n",
    "            t=self.T[kl,:].copy().reshape(m,1)\n",
    "            t = t / np.linalg.norm(t)       # ili np.sqrt((t ** 2).sum())\n",
    "            \n",
    "            #dodatna vrijednost s kojom se pazi da je petlja ograničena\n",
    "            i=0;\n",
    "            \n",
    "            #zadajemo broj iteracija i razliku da znamo kada treba stati\n",
    "            while(i<iteracija):\n",
    "\n",
    "                t1= X*(np.tanh(t.T.dot(X)*step_size))\n",
    "                t2= (1 - np.square(np.tanh(t.T.dot(X))))*step_size\n",
    "                t3= t1.mean(axis=1) - t2.mean() * np.squeeze(t)  #t3 su sad nove težine\n",
    "                \n",
    "                #print(t3.shape)\n",
    "                #normalizacija i tkzv. dekorelacija - zbog njega dobivene vrijednosti su različite\n",
    "                t3= t3 - np.dot(np.dot(t3, self.T[:kl].T), self.T[:kl])\n",
    "                t3= t3 / np.linalg.norm(t3)                        #ili np.sqrt((t3 ** 2).sum())   \n",
    "                \n",
    "                \n",
    "                #još jedan uvjet za stajanje je da je razlika između veličina dviju iteracija već jako mala\n",
    "                razlika= np.abs(np.abs((t3*t).sum())-1)\n",
    "                t= t3\n",
    "                if razlika < razlika1:\n",
    "                    break\n",
    "                \n",
    "                i=i+1\n",
    "            self.T[kl,:]= t.T           \n",
    "        \n",
    "    \n",
    "    def transform(self, X):\n",
    "        return np.dot(X.T,self.T.T)"
   ]
  },
  {
   "cell_type": "code",
   "execution_count": 73,
   "id": "960c7aeb",
   "metadata": {},
   "outputs": [],
   "source": [
    "ICA=impl_ICA()\n",
    "ICA2=impl_ICA()"
   ]
  },
  {
   "cell_type": "code",
   "execution_count": 75,
   "id": "723a3be3",
   "metadata": {},
   "outputs": [],
   "source": [
    "ICA.fit(X1_train, d=100)   \n",
    "ICA2.fit(X1_test, d=100)"
   ]
  },
  {
   "cell_type": "code",
   "execution_count": 56,
   "id": "3a0e0a11",
   "metadata": {},
   "outputs": [],
   "source": [
    "I=ICA.transform(X1_train)\n",
    "It=ICA2.transform(X1_test)"
   ]
  },
  {
   "cell_type": "code",
   "execution_count": 57,
   "id": "09d86b61",
   "metadata": {},
   "outputs": [
    {
     "name": "stdout",
     "output_type": "stream",
     "text": [
      "(608, 100)\n",
      "(16881, 1)\n"
     ]
    }
   ],
   "source": [
    "print(I.shape)\n",
    "print(y1_train.shape)"
   ]
  },
  {
   "cell_type": "markdown",
   "id": "dad68368",
   "metadata": {},
   "source": [
    "Model - koristit ću gotovu Logističku Regresiju iz sclearn-a."
   ]
  },
  {
   "cell_type": "markdown",
   "id": "49825548",
   "metadata": {},
   "source": [
    "Prvo ću ga pozvati na nepromijenjenim podacima, a nakon toga na promijenjenim.\n",
    "\n",
    "Računanjem točnosti kod oba slučaja, želim vidjeti ima li, i ako ima, kolika je razlika."
   ]
  },
  {
   "cell_type": "code",
   "execution_count": 74,
   "id": "03936823",
   "metadata": {},
   "outputs": [
    {
     "name": "stdout",
     "output_type": "stream",
     "text": [
      "Accuracy_score je kod podataka nepromijenjene dimenzije bio: \n",
      "0.5179657269209508\n"
     ]
    }
   ],
   "source": [
    "print(\"Accuracy_score je kod podataka nepromijenjene dimenzije bio: \")\n",
    "print(A)"
   ]
  },
  {
   "cell_type": "code",
   "execution_count": 59,
   "id": "216d0ada",
   "metadata": {},
   "outputs": [
    {
     "name": "stderr",
     "output_type": "stream",
     "text": [
      "C:\\Anaconda\\lib\\site-packages\\sklearn\\linear_model\\_logistic.py:763: ConvergenceWarning: lbfgs failed to converge (status=1):\n",
      "STOP: TOTAL NO. of f AND g EVALUATIONS EXCEEDS LIMIT.\n",
      "\n",
      "Increase the number of iterations (max_iter) or scale the data as shown in:\n",
      "    https://scikit-learn.org/stable/modules/preprocessing.html\n",
      "Please also refer to the documentation for alternative solver options:\n",
      "    https://scikit-learn.org/stable/modules/linear_model.html#logistic-regression\n",
      "  n_iter_i = _check_optimize_result(\n"
     ]
    }
   ],
   "source": [
    "lg22=LogisticRegression(random_state=0,max_iter=4000).fit(I[:,:],y1_train[:I.shape[0]].ravel())"
   ]
  },
  {
   "cell_type": "code",
   "execution_count": 76,
   "id": "0f30dfe2",
   "metadata": {},
   "outputs": [
    {
     "data": {
      "text/plain": [
       "0.14473684210526316"
      ]
     },
     "execution_count": 76,
     "metadata": {},
     "output_type": "execute_result"
    }
   ],
   "source": [
    "accuracy_score(y1_test[:I.shape[0]],lg22.predict(It))"
   ]
  },
  {
   "cell_type": "markdown",
   "id": "2fb9a4f6",
   "metadata": {},
   "source": [
    "### Zaključak"
   ]
  },
  {
   "cell_type": "markdown",
   "id": "28e5515f",
   "metadata": {},
   "source": [
    "Računanjem težina sve dok, ili razlika između njih ne postane jako mala ili napravimo unaprijed zadan veliki broj iteracija, dolazimo do matrice s kojom će se množiti naši podaci.\n",
    "\n",
    "Točnost se jako smanjila. Velika je razlika."
   ]
  },
  {
   "cell_type": "markdown",
   "id": "720e9afe",
   "metadata": {},
   "source": [
    "# 3. Metoda slučajne projekcije - RP"
   ]
  },
  {
   "cell_type": "markdown",
   "id": "6a6df076",
   "metadata": {},
   "source": [
    "Koristit ću podatke koje sam koristila i kod PCA metode."
   ]
  },
  {
   "cell_type": "code",
   "execution_count": 6,
   "id": "03646524",
   "metadata": {},
   "outputs": [],
   "source": [
    "class impl_RP():\n",
    "    def __init__(self):\n",
    "        self.R=None\n",
    "        \n",
    "    def fit(self, X, d):  # d je željena veličina na koju želimo reducirati\n",
    "        m,n = X.shape\n",
    "        \n",
    "        #random matrica s težinama\n",
    "        self.R=np.random.rand(n,d)  \n",
    "        \n",
    "        #normalizacija\n",
    "        self.R=normalize(self.R, norm='l2')   # ili R = R / np.linalg.norm(R)\n",
    "        \n",
    "    def transform(self,X):\n",
    "        return np.dot(X,self.R)"
   ]
  },
  {
   "cell_type": "code",
   "execution_count": 78,
   "id": "e25657e6",
   "metadata": {},
   "outputs": [],
   "source": [
    "RP=impl_RP()\n",
    "RP2=impl_RP()"
   ]
  },
  {
   "cell_type": "code",
   "execution_count": 79,
   "id": "2f8c9502",
   "metadata": {},
   "outputs": [],
   "source": [
    "RP.fit(X1_train, d=400)   \n",
    "RP2.fit(X1_test, d=400)"
   ]
  },
  {
   "cell_type": "code",
   "execution_count": 80,
   "id": "cd913d47",
   "metadata": {},
   "outputs": [],
   "source": [
    "R= RP.transform(X1_train)\n",
    "Rt= RP2.transform(X1_test)"
   ]
  },
  {
   "cell_type": "code",
   "execution_count": 81,
   "id": "b222f488",
   "metadata": {},
   "outputs": [
    {
     "name": "stdout",
     "output_type": "stream",
     "text": [
      "(16881, 400)\n",
      "(16881, 1)\n"
     ]
    }
   ],
   "source": [
    "print(R.shape)\n",
    "print(y1_train.shape)"
   ]
  },
  {
   "cell_type": "markdown",
   "id": "4fe222d3",
   "metadata": {},
   "source": [
    "Model - koristit ću gotovu Logističku Regresiju iz sclearn-a. "
   ]
  },
  {
   "cell_type": "code",
   "execution_count": 82,
   "id": "92837b24",
   "metadata": {},
   "outputs": [
    {
     "name": "stdout",
     "output_type": "stream",
     "text": [
      "Accuracy_score kod podataka nepromijenjene dimenzije bio: \n",
      "0.5179657269209508\n"
     ]
    }
   ],
   "source": [
    "print(\"Accuracy_score kod podataka nepromijenjene dimenzije bio: \")\n",
    "print(A)"
   ]
  },
  {
   "cell_type": "code",
   "execution_count": 83,
   "id": "120761b6",
   "metadata": {},
   "outputs": [
    {
     "name": "stderr",
     "output_type": "stream",
     "text": [
      "C:\\Anaconda\\lib\\site-packages\\sklearn\\linear_model\\_logistic.py:763: ConvergenceWarning: lbfgs failed to converge (status=1):\n",
      "STOP: TOTAL NO. of ITERATIONS REACHED LIMIT.\n",
      "\n",
      "Increase the number of iterations (max_iter) or scale the data as shown in:\n",
      "    https://scikit-learn.org/stable/modules/preprocessing.html\n",
      "Please also refer to the documentation for alternative solver options:\n",
      "    https://scikit-learn.org/stable/modules/linear_model.html#logistic-regression\n",
      "  n_iter_i = _check_optimize_result(\n"
     ]
    }
   ],
   "source": [
    "lg32=LogisticRegression(random_state=0,max_iter=5000).fit(R[:,:],y1_train.ravel())"
   ]
  },
  {
   "cell_type": "code",
   "execution_count": 84,
   "id": "6462ab64",
   "metadata": {},
   "outputs": [
    {
     "data": {
      "text/plain": [
       "0.22291321171918188"
      ]
     },
     "execution_count": 84,
     "metadata": {},
     "output_type": "execute_result"
    }
   ],
   "source": [
    "accuracy_score(y1_test,lg32.predict(Rt))"
   ]
  },
  {
   "cell_type": "markdown",
   "id": "5a2ee770",
   "metadata": {},
   "source": [
    "### Zaključak"
   ]
  },
  {
   "cell_type": "markdown",
   "id": "17cba8a6",
   "metadata": {},
   "source": [
    "Smanjivanje dimenzije na način da se matrica s random odabranim težinama normalizira dala je loše rezultate.\n",
    "\n",
    "Velika je razlika u točnosti kod promjenjenih i kod nepromijenjenih podataka."
   ]
  },
  {
   "cell_type": "markdown",
   "id": "ee6086d2",
   "metadata": {},
   "source": [
    "# 4. Višedimenzionalno skaliranje - MDS"
   ]
  },
  {
   "cell_type": "markdown",
   "id": "ecc5cdba",
   "metadata": {},
   "source": [
    "Unutar višedimenzionalnog skaliranja postoji više metoda za različite vrste podataka. Klasičan MDS (cMDS) je isto podvrsta MDS-a i njega ću implementirati."
   ]
  },
  {
   "cell_type": "code",
   "execution_count": 55,
   "id": "05a84d02",
   "metadata": {},
   "outputs": [],
   "source": [
    "class impl_cMDS():\n",
    "    def __init__(self):\n",
    "        self.M=None\n",
    "        self.M2=None\n",
    "        \n",
    "    def fit(self, X, d):    # d je broj na koji se samnjuje\n",
    "\n",
    "        # matrica udaljenosti mu treba za daljnje računanje\n",
    "        # mora biti pozvano na simetričnoj matrici\n",
    "        m=X.shape[0]\n",
    "        \n",
    "        #centriranje\n",
    "        cent_matrica = np.identity(m) -(1/m)*np.ones((m,m))\n",
    "        \n",
    "        #računanje kovarijacijske matrice\n",
    "        cov_mat = -(1/2)*cent_matrica.dot(X**2).dot(cent_matrica)\n",
    "        \n",
    "        # svojstvene vrijednosti i svojstveni vektori\n",
    "        eig_vals, eig_vecs = np.linalg.eig(cov_mat)\n",
    "        \n",
    "        # sortiranje svojstvenih vrijednosti                   \n",
    "        eig_vecs=eig_vecs[:,np.argsort(eig_vals)[::-1]]\n",
    "        eig_vals=eig_vals[np.argsort(eig_vals)[::-1]]\n",
    "        \n",
    "        #dobivanje korijena od produkta svojstvenih vektora i dijagonalne metrike svojstvenih vrijednosti\n",
    "        self.M=np.diag(np.sqrt(abs(eig_vals[:d])))\n",
    "        self.M2=eig_vecs[:,:d]\n",
    "        \n",
    "        #Uzimanje samo realnih vrijednosti\n",
    "        self.M=self.M.real\n",
    "        self.M2=self.M2.real\n",
    "        \n",
    "    def transform(self):\n",
    "        return np.transpose(np.dot(self.M, np.transpose(self.M2)))"
   ]
  },
  {
   "cell_type": "code",
   "execution_count": 119,
   "id": "640e4cf9",
   "metadata": {},
   "outputs": [],
   "source": [
    "cMDS=impl_cMDS()\n",
    "cMDS2=impl_cMDS()"
   ]
  },
  {
   "cell_type": "code",
   "execution_count": null,
   "id": "76e3897e",
   "metadata": {},
   "outputs": [],
   "source": [
    "cMDS.fit(pairwise_distances(X1_train),d=100)\n",
    "cMDS2.fit(pairwise_distances(X1_test),d=100)"
   ]
  },
  {
   "cell_type": "code",
   "execution_count": 100,
   "id": "939c6a7c",
   "metadata": {},
   "outputs": [],
   "source": [
    "M= cMDS.transform()   #smanjivanje dimenzije\n",
    "Mt= cMDS2.transform()"
   ]
  },
  {
   "cell_type": "markdown",
   "id": "7aaf1736",
   "metadata": {},
   "source": [
    "Model - koristit ću gotovu Logističku Regresiju iz sclearn-a. "
   ]
  },
  {
   "cell_type": "code",
   "execution_count": 102,
   "id": "2e153450",
   "metadata": {},
   "outputs": [
    {
     "name": "stdout",
     "output_type": "stream",
     "text": [
      "Accuracy_score je kod podataka nepromijenjene dimenzije bio: \n",
      "0.5179657269209508\n"
     ]
    }
   ],
   "source": [
    "print(\"Accuracy_score je kod podataka nepromijenjene dimenzije bio: \")\n",
    "print(A)"
   ]
  },
  {
   "cell_type": "code",
   "execution_count": 103,
   "id": "2bb17459",
   "metadata": {},
   "outputs": [],
   "source": [
    "lg42=LogisticRegression(random_state=0,max_iter=1000).fit(M,y1_train.ravel())"
   ]
  },
  {
   "cell_type": "code",
   "execution_count": 104,
   "id": "d5fc81dc",
   "metadata": {},
   "outputs": [
    {
     "data": {
      "text/plain": [
       "0.37797125483692645"
      ]
     },
     "execution_count": 104,
     "metadata": {},
     "output_type": "execute_result"
    }
   ],
   "source": [
    "accuracy_score(y1_test,lg42.predict(Mt))"
   ]
  },
  {
   "cell_type": "markdown",
   "id": "8d40ec7c",
   "metadata": {},
   "source": [
    "### Zaključak"
   ]
  },
  {
   "cell_type": "markdown",
   "id": "15dc5dd4",
   "metadata": {},
   "source": [
    "Klasičan MDS je vrlo sličan PCA-u, ukoliko se koristi euklidska udaljenost daju identičan rezultat. Razlika između PCA-a i MDS-a je u tome što PCA konvertira korelacije na nižedimenzionalni prostor, a MDS konvertira udaljenosti između uzoraka na nižedimenzionalni prostor.\n",
    "\n",
    "Točnost koju sam dobila nije najbolja kod podataka smanjene dimenzije, ali nije ni pre velika razlika između dviju točnosti."
   ]
  },
  {
   "cell_type": "markdown",
   "id": "5db967d3",
   "metadata": {},
   "source": [
    "_________________________________________________________________________________________________________"
   ]
  },
  {
   "cell_type": "markdown",
   "id": "77ec417d",
   "metadata": {},
   "source": [
    "_________________________________________________________________________________________________________"
   ]
  },
  {
   "cell_type": "markdown",
   "id": "ae5083d1",
   "metadata": {},
   "source": [
    "# Primjena tehnika na podatke"
   ]
  },
  {
   "cell_type": "markdown",
   "id": "6a5f5f32",
   "metadata": {},
   "source": [
    "Moji podaci su se u gornjim računanjima klasificirali u 16 klasa i s zadanim željenim dimenzijama, 400 kod PCA i RP te 100 kod ICA i cMDS. Sada će se teknike provrtiti na podacima s manje klasa te će se iscrtati ovisnosti s dimenzijom i točnošću."
   ]
  },
  {
   "cell_type": "markdown",
   "id": "52de53f0",
   "metadata": {},
   "source": [
    "### Primjena PCA metode na podatke s 8 klasa"
   ]
  },
  {
   "cell_type": "code",
   "execution_count": 7,
   "id": "71751b6a",
   "metadata": {},
   "outputs": [],
   "source": [
    "pollen_dictionary={\"Alnus Glutin\":\"Alnus Glutin\",\n",
    "           \"Alnus Glutin (Plair)\":\"Alnus Glutin\",\n",
    "            \"Ambrosia Artemisifolia (Plair)\":\"Ambrosia Artemisifolia 2\",\n",
    "            \"Ambrosia Artemisifolia 2\":\"Ambrosia Artemisifolia 2\",\n",
    "            \"Artemisia Vulgaris (FRESH) \":\"Artemisia Vulgaris (FRESH)\",\n",
    "            \"Artemisia Vulgaris (Plair) \":\"Artemisia Vulgaris (FRESH)\",\n",
    "            \"Betula Pendula\":\"Betula Pendula\",\n",
    "            \"Betula Pendula (Plair)\":\"Betula Pendula\",\n",
    "            \"Cedrus (L. Plair)\":\"Cedrus (L. Plair)\",\n",
    "            \"Cedrus (OCT 2013)\":\"Cedrus (L. Plair)\",\n",
    "            \"Corylus Avelana\":\"Corylus Avelana\",\n",
    "            \"Corylus Avelana (Plair)\":\"Corylus Avelana\",\n",
    "            \"Quercus\":\"Quercus\",\n",
    "            \"Quercus (Plair)\":\"Quercus\",\n",
    "            \"Urtica Diocia\":\"Urtica Diocia\",\n",
    "            \"Urtica Diocia (Plair)\":\"Urtica Diocia\"\n",
    "           }"
   ]
  },
  {
   "cell_type": "code",
   "execution_count": 8,
   "id": "ff07f667",
   "metadata": {},
   "outputs": [],
   "source": [
    "for i in range(y1_train.shape[0]):\n",
    "    y1_train[i][0]=pollen_dictionary[y1_train[i][0]]\n",
    "    \n",
    "for i in range(y1_test.shape[0]):\n",
    "    y1_test[i][0]=pollen_dictionary[y1_test[i][0]]"
   ]
  },
  {
   "cell_type": "code",
   "execution_count": null,
   "id": "6595a50b",
   "metadata": {},
   "outputs": [],
   "source": []
  },
  {
   "cell_type": "code",
   "execution_count": 9,
   "id": "e4c3afe4",
   "metadata": {},
   "outputs": [],
   "source": [
    "dim=X1_train.shape[1]\n",
    "točnost_za_trening=[]\n",
    "točnost_za_testni=[]\n",
    "dimenzije=[]\n",
    "while (dim>0):\n",
    "    PCA=impl_PCA()\n",
    "    PCA2=impl_PCA()\n",
    "    \n",
    "    PCA.fit(X1_train,k=dim)\n",
    "    PCA2.fit(X1_test,k=dim)\n",
    "    \n",
    "    T=PCA.transform(X1_train)\n",
    "    Tt=PCA2.transform(X1_test)\n",
    "    lg12=LogisticRegression(random_state=0,max_iter=4000).fit(T[:,:],y1_train.ravel())\n",
    "    \n",
    "    točnost_za_trening.append(accuracy_score(y1_train,lg12.predict(T)))\n",
    "    točnost_za_testni.append(accuracy_score(y1_test,lg12.predict(Tt)))\n",
    "    dimenzije.append(dim)\n",
    "    \n",
    "    dim=dim-10"
   ]
  },
  {
   "cell_type": "code",
   "execution_count": 12,
   "id": "dcb08e29",
   "metadata": {},
   "outputs": [
    {
     "name": "stdout",
     "output_type": "stream",
     "text": [
      "Ovisnost dimenzije i točnosti na trening skupu\n"
     ]
    },
    {
     "data": {
      "image/png": "[encoded data removed]",
      "text/plain": [
       "<Figure size 432x288 with 1 Axes>"
      ]
     },
     "metadata": {
      "needs_background": "light"
     },
     "output_type": "display_data"
    }
   ],
   "source": [
    "print(\"Ovisnost dimenzije i točnosti na trening skupu\")\n",
    "plt.scatter(dimenzije, točnost_za_trening)\n",
    "plt.show()\n",
    "\n",
    "print(\"Ovisnost dimenzije i točnosti na testnom skupu\")\n",
    "plt.scatter(dimenzije, točnost_za_testni)\n",
    "plt.show()"
   ]
  },
  {
   "cell_type": "code",
   "execution_count": 13,
   "id": "e777755c",
   "metadata": {},
   "outputs": [
    {
     "name": "stdout",
     "output_type": "stream",
     "text": [
      "Ovisnost dimenzije i točnosti na testnom skupu\n"
     ]
    },
    {
     "data": {
      "image/png": "[encoded data removed]",
      "text/plain": [
       "<Figure size 432x288 with 1 Axes>"
      ]
     },
     "metadata": {
      "needs_background": "light"
     },
     "output_type": "display_data"
    }
   ],
   "source": [
    "print(\"Ovisnost dimenzije i točnosti na testnom skupu\")\n",
    "plt.scatter(dimenzije, točnost_za_testni)\n",
    "plt.show()"
   ]
  },
  {
   "cell_type": "markdown",
   "id": "0d3c7c10",
   "metadata": {},
   "source": [
    "### Primjena ICA metode na podatke s 8 klasa"
   ]
  },
  {
   "cell_type": "code",
   "execution_count": 109,
   "id": "4f6b3bf8",
   "metadata": {
    "scrolled": true
   },
   "outputs": [
    {
     "name": "stderr",
     "output_type": "stream",
     "text": [
      "C:\\Anaconda\\lib\\site-packages\\sklearn\\linear_model\\_logistic.py:763: ConvergenceWarning: lbfgs failed to converge (status=1):\n",
      "STOP: TOTAL NO. of ITERATIONS REACHED LIMIT.\n",
      "\n",
      "Increase the number of iterations (max_iter) or scale the data as shown in:\n",
      "    https://scikit-learn.org/stable/modules/preprocessing.html\n",
      "Please also refer to the documentation for alternative solver options:\n",
      "    https://scikit-learn.org/stable/modules/linear_model.html#logistic-regression\n",
      "  n_iter_i = _check_optimize_result(\n",
      "C:\\Anaconda\\lib\\site-packages\\sklearn\\linear_model\\_logistic.py:763: ConvergenceWarning: lbfgs failed to converge (status=1):\n",
      "STOP: TOTAL NO. of ITERATIONS REACHED LIMIT.\n",
      "\n",
      "Increase the number of iterations (max_iter) or scale the data as shown in:\n",
      "    https://scikit-learn.org/stable/modules/preprocessing.html\n",
      "Please also refer to the documentation for alternative solver options:\n",
      "    https://scikit-learn.org/stable/modules/linear_model.html#logistic-regression\n",
      "  n_iter_i = _check_optimize_result(\n",
      "C:\\Anaconda\\lib\\site-packages\\sklearn\\linear_model\\_logistic.py:763: ConvergenceWarning: lbfgs failed to converge (status=1):\n",
      "STOP: TOTAL NO. of ITERATIONS REACHED LIMIT.\n",
      "\n",
      "Increase the number of iterations (max_iter) or scale the data as shown in:\n",
      "    https://scikit-learn.org/stable/modules/preprocessing.html\n",
      "Please also refer to the documentation for alternative solver options:\n",
      "    https://scikit-learn.org/stable/modules/linear_model.html#logistic-regression\n",
      "  n_iter_i = _check_optimize_result(\n",
      "C:\\Anaconda\\lib\\site-packages\\sklearn\\linear_model\\_logistic.py:763: ConvergenceWarning: lbfgs failed to converge (status=1):\n",
      "STOP: TOTAL NO. of ITERATIONS REACHED LIMIT.\n",
      "\n",
      "Increase the number of iterations (max_iter) or scale the data as shown in:\n",
      "    https://scikit-learn.org/stable/modules/preprocessing.html\n",
      "Please also refer to the documentation for alternative solver options:\n",
      "    https://scikit-learn.org/stable/modules/linear_model.html#logistic-regression\n",
      "  n_iter_i = _check_optimize_result(\n",
      "C:\\Anaconda\\lib\\site-packages\\sklearn\\linear_model\\_logistic.py:763: ConvergenceWarning: lbfgs failed to converge (status=1):\n",
      "STOP: TOTAL NO. of ITERATIONS REACHED LIMIT.\n",
      "\n",
      "Increase the number of iterations (max_iter) or scale the data as shown in:\n",
      "    https://scikit-learn.org/stable/modules/preprocessing.html\n",
      "Please also refer to the documentation for alternative solver options:\n",
      "    https://scikit-learn.org/stable/modules/linear_model.html#logistic-regression\n",
      "  n_iter_i = _check_optimize_result(\n",
      "C:\\Anaconda\\lib\\site-packages\\sklearn\\linear_model\\_logistic.py:763: ConvergenceWarning: lbfgs failed to converge (status=1):\n",
      "STOP: TOTAL NO. of ITERATIONS REACHED LIMIT.\n",
      "\n",
      "Increase the number of iterations (max_iter) or scale the data as shown in:\n",
      "    https://scikit-learn.org/stable/modules/preprocessing.html\n",
      "Please also refer to the documentation for alternative solver options:\n",
      "    https://scikit-learn.org/stable/modules/linear_model.html#logistic-regression\n",
      "  n_iter_i = _check_optimize_result(\n"
     ]
    }
   ],
   "source": [
    "dim2=X1_train.shape[1]\n",
    "točnost_za_trening2=[]\n",
    "točnost_za_testni2=[]\n",
    "dimenzije2=[]\n",
    "while (dim2>0):\n",
    "    ICA=impl_ICA()\n",
    "    ICA2=impl_ICA()\n",
    "    \n",
    "    ICA.fit(X1_train,d=dim2)\n",
    "    ICA2.fit(X1_test,d=dim2)\n",
    "    \n",
    "    T=ICA.transform(X1_train)\n",
    "    Tt=ICA2.transform(X1_test)\n",
    "    lg12=LogisticRegression(random_state=0,max_iter=6000).fit(T[:,:],y1_train[:T.shape[0]].ravel())\n",
    "    \n",
    "    točnost_za_trening2.append(accuracy_score(y1_train[:T.shape[0]],lg12.predict(T)))\n",
    "    točnost_za_testni2.append(accuracy_score(y1_test[:Tt.shape[0]],lg12.predict(Tt)))\n",
    "    dimenzije2.append(dim2)\n",
    "    \n",
    "    dim2=dim2-100\n",
    "    \n"
   ]
  },
  {
   "cell_type": "code",
   "execution_count": 110,
   "id": "c22e81d5",
   "metadata": {},
   "outputs": [
    {
     "name": "stdout",
     "output_type": "stream",
     "text": [
      "Ovisnost dimenzije i točnosti na trening skupu\n"
     ]
    },
    {
     "data": {
      "image/png": "[encoded data removed]",
      "text/plain": [
       "<Figure size 432x288 with 1 Axes>"
      ]
     },
     "metadata": {
      "needs_background": "light"
     },
     "output_type": "display_data"
    },
    {
     "name": "stdout",
     "output_type": "stream",
     "text": [
      "Ovisnost dimenzije i točnosti na testnom skupu\n"
     ]
    },
    {
     "data": {
      "image/png": "[encoded data removed]",
      "text/plain": [
       "<Figure size 432x288 with 1 Axes>"
      ]
     },
     "metadata": {
      "needs_background": "light"
     },
     "output_type": "display_data"
    }
   ],
   "source": [
    "print(\"Ovisnost dimenzije i točnosti na trening skupu\")\n",
    "plt.scatter(dimenzije2, točnost_za_trening2)\n",
    "plt.show()\n",
    "\n",
    "print(\"Ovisnost dimenzije i točnosti na testnom skupu\")\n",
    "plt.scatter(dimenzije2, točnost_za_testni2)\n",
    "plt.show()"
   ]
  },
  {
   "cell_type": "markdown",
   "id": "950ba0ef",
   "metadata": {},
   "source": [
    "### Primjena RP metode na podatke s 8 klasa"
   ]
  },
  {
   "cell_type": "code",
   "execution_count": 9,
   "id": "bb209f17",
   "metadata": {
    "scrolled": true
   },
   "outputs": [
    {
     "name": "stderr",
     "output_type": "stream",
     "text": [
      "C:\\Anaconda\\lib\\site-packages\\sklearn\\linear_model\\_logistic.py:763: ConvergenceWarning: lbfgs failed to converge (status=1):\n",
      "STOP: TOTAL NO. of ITERATIONS REACHED LIMIT.\n",
      "\n",
      "Increase the number of iterations (max_iter) or scale the data as shown in:\n",
      "    https://scikit-learn.org/stable/modules/preprocessing.html\n",
      "Please also refer to the documentation for alternative solver options:\n",
      "    https://scikit-learn.org/stable/modules/linear_model.html#logistic-regression\n",
      "  n_iter_i = _check_optimize_result(\n",
      "C:\\Anaconda\\lib\\site-packages\\sklearn\\linear_model\\_logistic.py:763: ConvergenceWarning: lbfgs failed to converge (status=1):\n",
      "STOP: TOTAL NO. of ITERATIONS REACHED LIMIT.\n",
      "\n",
      "Increase the number of iterations (max_iter) or scale the data as shown in:\n",
      "    https://scikit-learn.org/stable/modules/preprocessing.html\n",
      "Please also refer to the documentation for alternative solver options:\n",
      "    https://scikit-learn.org/stable/modules/linear_model.html#logistic-regression\n",
      "  n_iter_i = _check_optimize_result(\n",
      "C:\\Anaconda\\lib\\site-packages\\sklearn\\linear_model\\_logistic.py:763: ConvergenceWarning: lbfgs failed to converge (status=1):\n",
      "STOP: TOTAL NO. of ITERATIONS REACHED LIMIT.\n",
      "\n",
      "Increase the number of iterations (max_iter) or scale the data as shown in:\n",
      "    https://scikit-learn.org/stable/modules/preprocessing.html\n",
      "Please also refer to the documentation for alternative solver options:\n",
      "    https://scikit-learn.org/stable/modules/linear_model.html#logistic-regression\n",
      "  n_iter_i = _check_optimize_result(\n",
      "C:\\Anaconda\\lib\\site-packages\\sklearn\\linear_model\\_logistic.py:763: ConvergenceWarning: lbfgs failed to converge (status=1):\n",
      "STOP: TOTAL NO. of ITERATIONS REACHED LIMIT.\n",
      "\n",
      "Increase the number of iterations (max_iter) or scale the data as shown in:\n",
      "    https://scikit-learn.org/stable/modules/preprocessing.html\n",
      "Please also refer to the documentation for alternative solver options:\n",
      "    https://scikit-learn.org/stable/modules/linear_model.html#logistic-regression\n",
      "  n_iter_i = _check_optimize_result(\n",
      "C:\\Anaconda\\lib\\site-packages\\sklearn\\linear_model\\_logistic.py:763: ConvergenceWarning: lbfgs failed to converge (status=1):\n",
      "STOP: TOTAL NO. of ITERATIONS REACHED LIMIT.\n",
      "\n",
      "Increase the number of iterations (max_iter) or scale the data as shown in:\n",
      "    https://scikit-learn.org/stable/modules/preprocessing.html\n",
      "Please also refer to the documentation for alternative solver options:\n",
      "    https://scikit-learn.org/stable/modules/linear_model.html#logistic-regression\n",
      "  n_iter_i = _check_optimize_result(\n",
      "C:\\Anaconda\\lib\\site-packages\\sklearn\\linear_model\\_logistic.py:763: ConvergenceWarning: lbfgs failed to converge (status=1):\n",
      "STOP: TOTAL NO. of ITERATIONS REACHED LIMIT.\n",
      "\n",
      "Increase the number of iterations (max_iter) or scale the data as shown in:\n",
      "    https://scikit-learn.org/stable/modules/preprocessing.html\n",
      "Please also refer to the documentation for alternative solver options:\n",
      "    https://scikit-learn.org/stable/modules/linear_model.html#logistic-regression\n",
      "  n_iter_i = _check_optimize_result(\n",
      "C:\\Anaconda\\lib\\site-packages\\sklearn\\linear_model\\_logistic.py:763: ConvergenceWarning: lbfgs failed to converge (status=1):\n",
      "STOP: TOTAL NO. of ITERATIONS REACHED LIMIT.\n",
      "\n",
      "Increase the number of iterations (max_iter) or scale the data as shown in:\n",
      "    https://scikit-learn.org/stable/modules/preprocessing.html\n",
      "Please also refer to the documentation for alternative solver options:\n",
      "    https://scikit-learn.org/stable/modules/linear_model.html#logistic-regression\n",
      "  n_iter_i = _check_optimize_result(\n",
      "C:\\Anaconda\\lib\\site-packages\\sklearn\\linear_model\\_logistic.py:763: ConvergenceWarning: lbfgs failed to converge (status=1):\n",
      "STOP: TOTAL NO. of ITERATIONS REACHED LIMIT.\n",
      "\n",
      "Increase the number of iterations (max_iter) or scale the data as shown in:\n",
      "    https://scikit-learn.org/stable/modules/preprocessing.html\n",
      "Please also refer to the documentation for alternative solver options:\n",
      "    https://scikit-learn.org/stable/modules/linear_model.html#logistic-regression\n",
      "  n_iter_i = _check_optimize_result(\n",
      "C:\\Anaconda\\lib\\site-packages\\sklearn\\linear_model\\_logistic.py:763: ConvergenceWarning: lbfgs failed to converge (status=1):\n",
      "STOP: TOTAL NO. of ITERATIONS REACHED LIMIT.\n",
      "\n",
      "Increase the number of iterations (max_iter) or scale the data as shown in:\n",
      "    https://scikit-learn.org/stable/modules/preprocessing.html\n",
      "Please also refer to the documentation for alternative solver options:\n",
      "    https://scikit-learn.org/stable/modules/linear_model.html#logistic-regression\n",
      "  n_iter_i = _check_optimize_result(\n",
      "C:\\Anaconda\\lib\\site-packages\\sklearn\\linear_model\\_logistic.py:763: ConvergenceWarning: lbfgs failed to converge (status=1):\n",
      "STOP: TOTAL NO. of ITERATIONS REACHED LIMIT.\n",
      "\n",
      "Increase the number of iterations (max_iter) or scale the data as shown in:\n",
      "    https://scikit-learn.org/stable/modules/preprocessing.html\n",
      "Please also refer to the documentation for alternative solver options:\n",
      "    https://scikit-learn.org/stable/modules/linear_model.html#logistic-regression\n",
      "  n_iter_i = _check_optimize_result(\n"
     ]
    }
   ],
   "source": [
    "dim3=X1_train.shape[1]\n",
    "točnost_za_trening3=[]\n",
    "točnost_za_testni3=[]\n",
    "dimenzije3=[]\n",
    "while (dim3>0):\n",
    "    RP=impl_RP()\n",
    "    RP2=impl_RP()\n",
    "    \n",
    "    RP.fit(X1_train,d=dim3)\n",
    "    RP2.fit(X1_test,d=dim3)\n",
    "    \n",
    "    T=RP.transform(X1_train)\n",
    "    Tt=RP2.transform(X1_test)\n",
    "    lg12=LogisticRegression(random_state=0,max_iter=7000).fit(T[:,:],y1_train.ravel())\n",
    "    \n",
    "    točnost_za_trening3.append(accuracy_score(y1_train,lg12.predict(T)))\n",
    "    točnost_za_testni3.append(accuracy_score(y1_test,lg12.predict(Tt)))\n",
    "    dimenzije3.append(dim3)\n",
    "    \n",
    "    dim3=dim3-10\n",
    "    \n"
   ]
  },
  {
   "cell_type": "code",
   "execution_count": 10,
   "id": "fb70b74d",
   "metadata": {},
   "outputs": [
    {
     "name": "stdout",
     "output_type": "stream",
     "text": [
      "Ovisnost dimenzije i točnosti na trening skupu\n"
     ]
    },
    {
     "data": {
      "image/png": "[encoded data removed]",
      "text/plain": [
       "<Figure size 432x288 with 1 Axes>"
      ]
     },
     "metadata": {
      "needs_background": "light"
     },
     "output_type": "display_data"
    },
    {
     "name": "stdout",
     "output_type": "stream",
     "text": [
      "Ovisnost dimenzije i točnosti na testnom skupu\n"
     ]
    },
    {
     "data": {
      "image/png": "[encoded data removed]",
      "text/plain": [
       "<Figure size 432x288 with 1 Axes>"
      ]
     },
     "metadata": {
      "needs_background": "light"
     },
     "output_type": "display_data"
    }
   ],
   "source": [
    "print(\"Ovisnost dimenzije i točnosti na trening skupu\")\n",
    "plt.scatter(dimenzije3, točnost_za_trening3)\n",
    "plt.show()\n",
    "\n",
    "print(\"Ovisnost dimenzije i točnosti na testnom skupu\")\n",
    "plt.scatter(dimenzije3, točnost_za_testni3)\n",
    "plt.show()"
   ]
  },
  {
   "cell_type": "markdown",
   "id": "e0b40e70",
   "metadata": {},
   "source": [
    "### Primjena cMDS metode na podatke s 8 klasa"
   ]
  },
  {
   "cell_type": "code",
   "execution_count": 11,
   "id": "be30ea8a",
   "metadata": {},
   "outputs": [],
   "source": [
    "dim4=X1_train.shape[1]-200\n",
    "točnost_za_trening4=[]\n",
    "točnost_za_testni4=[]\n",
    "dimenzije4=[]\n",
    "while (dim4>0):\n",
    "    cMDS=impl_cMDS()\n",
    "    cMDS2=impl_cMDS()\n",
    "    \n",
    "    cMDS.fit(pairwise_distances(X1_train),d=dim4)\n",
    "    cMDS2.fit(pairwise_distances(X1_test),d=dim4)\n",
    "    \n",
    "    T=cMDS.transform()\n",
    "    Tt=cMDS2.transform()\n",
    "    try:\n",
    "        lg12=LogisticRegression(random_state=0,max_iter=1000).fit(T[:,:],y1_train.ravel())\n",
    "    \n",
    "        točnost_za_trening4.append(accuracy_score(y1_train,lg12.predict(T)))\n",
    "        točnost_za_testni4.append(accuracy_score(y1_test,lg12.predict(Tt)))\n",
    "    except:\n",
    "    dimenzije4.append(dim4)\n",
    "    \n",
    "    dim4=dim4-100\n",
    "    "
   ]
  },
  {
   "cell_type": "code",
   "execution_count": 12,
   "id": "90d80253",
   "metadata": {},
   "outputs": [
    {
     "name": "stdout",
     "output_type": "stream",
     "text": [
      "Ovisnost dimenzije i točnosti na trening skupu\n"
     ]
    },
    {
     "data": {
      "image/png": "[encoded data removed]",
      "text/plain": [
       "<Figure size 432x288 with 1 Axes>"
      ]
     },
     "metadata": {
      "needs_background": "light"
     },
     "output_type": "display_data"
    },
    {
     "name": "stdout",
     "output_type": "stream",
     "text": [
      "Ovisnost dimenzije i točnosti na testnom skupu\n"
     ]
    },
    {
     "data": {
      "image/png": "[encoded data removed]",
      "text/plain": [
       "<Figure size 432x288 with 1 Axes>"
      ]
     },
     "metadata": {
      "needs_background": "light"
     },
     "output_type": "display_data"
    }
   ],
   "source": [
    "print(\"Ovisnost dimenzije i točnosti na trening skupu\")\n",
    "plt.scatter(dimenzije4, točnost_za_trening4)\n",
    "plt.show()\n",
    "\n",
    "print(\"Ovisnost dimenzije i točnosti na testnom skupu\")\n",
    "plt.scatter(dimenzije4, točnost_za_testni4)\n",
    "plt.show()"
   ]
  },
  {
   "cell_type": "markdown",
   "id": "0c9e0f06",
   "metadata": {},
   "source": [
    "________________________________________________________________________________________________________"
   ]
  },
  {
   "cell_type": "markdown",
   "id": "a1d47fbf",
   "metadata": {},
   "source": [
    "### Primjena PCA metode na podatke s 2 klase, Ambrozija i sve ostalo"
   ]
  },
  {
   "cell_type": "code",
   "execution_count": 59,
   "id": "8a47fd60",
   "metadata": {},
   "outputs": [],
   "source": [
    "pollen_dictionary1={\"Alnus Glutin\":\"Artemisia Vulgaris (FRESH) \",\n",
    "           \"Alnus Glutin (Plair)\":\"Artemisia Vulgaris (FRESH) \",\n",
    "            \"Ambrosia Artemisifolia (Plair)\":\"Ambrosia Artemisifolia (Plair)\",\n",
    "            \"Ambrosia Artemisifolia 2\":\"Ambrosia Artemisifolia (Plair)\",\n",
    "            \"Artemisia Vulgaris (FRESH) \":\"Artemisia Vulgaris (FRESH) \",\n",
    "            \"Artemisia Vulgaris (Plair) \":\"Artemisia Vulgaris (FRESH) \",\n",
    "            \"Betula Pendula\":\"Artemisia Vulgaris (FRESH) \",\n",
    "            \"Betula Pendula (Plair)\":\"Artemisia Vulgaris (FRESH) \",\n",
    "            \"Cedrus (L. Plair)\":\"Artemisia Vulgaris (FRESH) \",\n",
    "            \"Cedrus (OCT 2013)\":\"Artemisia Vulgaris (FRESH) \",\n",
    "            \"Corylus Avelana\":\"Artemisia Vulgaris (FRESH) \",\n",
    "            \"Corylus Avelana (Plair)\":\"Artemisia Vulgaris (FRESH) \",\n",
    "            \"Quercus\":\"Artemisia Vulgaris (FRESH) \",\n",
    "            \"Quercus (Plair)\":\"Artemisia Vulgaris (FRESH) \",\n",
    "            \"Urtica Diocia\":\"Artemisia Vulgaris (FRESH) \",\n",
    "            \"Urtica Diocia (Plair)\":\"Artemisia Vulgaris (FRESH) \"\n",
    "           }\n"
   ]
  },
  {
   "cell_type": "code",
   "execution_count": 60,
   "id": "520d8682",
   "metadata": {},
   "outputs": [],
   "source": [
    "X1 = data.drop(['Pollen Type','Time'], axis=1)\n",
    "scaler = StandardScaler()\n",
    "scaler.fit(X1)\n",
    "X1 = scaler.transform(X1)\n",
    "\n",
    "X1_train, X1_test, y1_train, y1_test = train_test_split(X1, data[['Pollen Type']], test_size=0.30, random_state=42)\n",
    "\n",
    "y1_train, y1_test = y1_train.to_numpy(), y1_test.to_numpy()\n"
   ]
  },
  {
   "cell_type": "code",
   "execution_count": 61,
   "id": "cceae643",
   "metadata": {},
   "outputs": [],
   "source": [
    "for i in range(y1_train.shape[0]):\n",
    "    y1_train[i][0]=pollen_dictionary1[y1_train[i][0]]\n",
    "    \n",
    "for i in range(y1_test.shape[0]):\n",
    "    y1_test[i][0]=pollen_dictionary1[y1_test[i][0]]"
   ]
  },
  {
   "cell_type": "code",
   "execution_count": 30,
   "id": "bc2f3546",
   "metadata": {},
   "outputs": [],
   "source": [
    "dim=X1_train.shape[1]\n",
    "točnost_za_trening11=[]\n",
    "točnost_za_testni11=[]\n",
    "\n",
    "dimenzije=[]\n",
    "\n",
    "while (dim>0):\n",
    "    PCA=impl_PCA()\n",
    "    PCA2=impl_PCA()\n",
    "    \n",
    "    PCA.fit(X1_train,k=dim)\n",
    "    PCA2.fit(X1_test,k=dim)\n",
    "    \n",
    "    T=PCA.transform(X1_train)\n",
    "    Tt=PCA2.transform(X1_test)\n",
    "    lg12=LogisticRegression(random_state=0,max_iter=4000).fit(T[:,:],y1_train.ravel())\n",
    "    \n",
    "    točnost_za_trening11.append(accuracy_score(y1_train,lg12.predict(T)))\n",
    "    točnost_za_testni11.append(accuracy_score(y1_test,lg12.predict(Tt)))\n",
    "    dimenzije.append(dim)\n",
    "    \n",
    "    dim=dim-50"
   ]
  },
  {
   "cell_type": "code",
   "execution_count": 31,
   "id": "fc757e08",
   "metadata": {},
   "outputs": [
    {
     "name": "stdout",
     "output_type": "stream",
     "text": [
      "Ambrozija i sve ostalo - ovisnost dimenzije i točnosti na trening skupu \n"
     ]
    },
    {
     "data": {
      "image/png": "[encoded data removed]",
      "text/plain": [
       "<Figure size 432x288 with 1 Axes>"
      ]
     },
     "metadata": {
      "needs_background": "light"
     },
     "output_type": "display_data"
    },
    {
     "name": "stdout",
     "output_type": "stream",
     "text": [
      "Ambrozija i sve ostalo - ovisnost dimenzije i točnosti na testnom skupu\n"
     ]
    },
    {
     "data": {
      "image/png": "[encoded data removed]",
      "text/plain": [
       "<Figure size 432x288 with 1 Axes>"
      ]
     },
     "metadata": {
      "needs_background": "light"
     },
     "output_type": "display_data"
    }
   ],
   "source": [
    "print(\"Ambrozija i sve ostalo - ovisnost dimenzije i točnosti na trening skupu \")\n",
    "plt.scatter(dimenzije, točnost_za_trening11)\n",
    "plt.show()\n",
    "\n",
    "print(\"Ambrozija i sve ostalo - ovisnost dimenzije i točnosti na testnom skupu\")\n",
    "plt.scatter(dimenzije, točnost_za_testni11)\n",
    "plt.show()\n"
   ]
  },
  {
   "cell_type": "markdown",
   "id": "272055e0",
   "metadata": {},
   "source": [
    "### Primjena ICA metode na podatke s 2 klase, Ambrozija i sve ostalo"
   ]
  },
  {
   "cell_type": "code",
   "execution_count": 29,
   "id": "5e245eb0",
   "metadata": {},
   "outputs": [],
   "source": [
    "dim2=X1_train.shape[1]\n",
    "točnost_za_trening2=[]\n",
    "točnost_za_testni2=[]\n",
    "dimenzije2=[]\n",
    "while (dim2>0):\n",
    "    ICA=impl_ICA()\n",
    "    ICA2=impl_ICA()\n",
    "    \n",
    "    ICA.fit(X1_train,d=dim2)\n",
    "    ICA2.fit(X1_test,d=dim2)\n",
    "    \n",
    "    T=ICA.transform(X1_train)\n",
    "    Tt=ICA2.transform(X1_test)\n",
    "    lg12=LogisticRegression(random_state=0,max_iter=6000).fit(T[:,:],y1_train[:T.shape[0]].ravel())\n",
    "    \n",
    "    točnost_za_trening2.append(accuracy_score(y1_train[:T.shape[0]],lg12.predict(T)))\n",
    "    točnost_za_testni2.append(accuracy_score(y1_test[:Tt.shape[0]],lg12.predict(Tt)))\n",
    "    dimenzije2.append(dim2)\n",
    "    \n",
    "    dim2=dim2-100"
   ]
  },
  {
   "cell_type": "code",
   "execution_count": 32,
   "id": "8ab56e8b",
   "metadata": {},
   "outputs": [
    {
     "name": "stdout",
     "output_type": "stream",
     "text": [
      "Ovisnost dimenzije i točnosti na trening skupu\n"
     ]
    },
    {
     "data": {
      "image/png": "[encoded data removed]",
      "text/plain": [
       "<Figure size 432x288 with 1 Axes>"
      ]
     },
     "metadata": {
      "needs_background": "light"
     },
     "output_type": "display_data"
    },
    {
     "name": "stdout",
     "output_type": "stream",
     "text": [
      "Ovisnost dimenzije i točnosti na testnom skupu\n"
     ]
    },
    {
     "data": {
      "image/png": "[encoded data removed]",
      "text/plain": [
       "<Figure size 432x288 with 1 Axes>"
      ]
     },
     "metadata": {
      "needs_background": "light"
     },
     "output_type": "display_data"
    }
   ],
   "source": [
    "print(\"Ovisnost dimenzije i točnosti na trening skupu\")\n",
    "plt.scatter(dimenzije2, točnost_za_trening2)\n",
    "plt.show()\n",
    "\n",
    "print(\"Ovisnost dimenzije i točnosti na testnom skupu\")\n",
    "plt.scatter(dimenzije2, točnost_za_testni2)\n",
    "plt.show()"
   ]
  },
  {
   "cell_type": "markdown",
   "id": "1edf5c48",
   "metadata": {},
   "source": [
    "### Primjena RP metode na podatke s 2 klase, Ambrozija i sve ostalo"
   ]
  },
  {
   "cell_type": "code",
   "execution_count": 35,
   "id": "52fef0ce",
   "metadata": {},
   "outputs": [],
   "source": [
    "dim3=X1_train.shape[1]\n",
    "točnost_za_trening3=[]\n",
    "točnost_za_testni3=[]\n",
    "dimenzije3=[]\n",
    "while (dim3>0):\n",
    "    RP=impl_RP()\n",
    "    RP2=impl_RP()\n",
    "    \n",
    "    RP.fit(X1_train,d=dim3)\n",
    "    RP2.fit(X1_test,d=dim3)\n",
    "    \n",
    "    T=RP.transform(X1_train)\n",
    "    Tt=RP2.transform(X1_test)\n",
    "    lg12=LogisticRegression(random_state=0,max_iter=4000).fit(T[:,:],y1_train.ravel())\n",
    "    \n",
    "    točnost_za_trening3.append(accuracy_score(y1_train,lg12.predict(T)))\n",
    "    točnost_za_testni3.append(accuracy_score(y1_test,lg12.predict(Tt)))\n",
    "    dimenzije3.append(dim3)\n",
    "    \n",
    "    dim3=dim3-50\n",
    "    "
   ]
  },
  {
   "cell_type": "code",
   "execution_count": 36,
   "id": "e1cac938",
   "metadata": {},
   "outputs": [
    {
     "name": "stdout",
     "output_type": "stream",
     "text": [
      "Ambrozija i sve ostalo - ovisnost dimenzije i točnosti na trening skupu \n"
     ]
    },
    {
     "data": {
      "image/png": "[encoded data removed]",
      "text/plain": [
       "<Figure size 432x288 with 1 Axes>"
      ]
     },
     "metadata": {
      "needs_background": "light"
     },
     "output_type": "display_data"
    },
    {
     "name": "stdout",
     "output_type": "stream",
     "text": [
      "Ambrozija i sve ostalo - ovisnost dimenzije i točnosti na testnom skupu\n"
     ]
    },
    {
     "data": {
      "image/png": "[encoded data removed]",
      "text/plain": [
       "<Figure size 432x288 with 1 Axes>"
      ]
     },
     "metadata": {
      "needs_background": "light"
     },
     "output_type": "display_data"
    }
   ],
   "source": [
    "print(\"Ambrozija i sve ostalo - ovisnost dimenzije i točnosti na trening skupu \")\n",
    "plt.scatter(dimenzije3, točnost_za_trening3)\n",
    "plt.show()\n",
    "\n",
    "print(\"Ambrozija i sve ostalo - ovisnost dimenzije i točnosti na testnom skupu\")\n",
    "plt.scatter(dimenzije3, točnost_za_testni3)\n",
    "plt.show()\n"
   ]
  },
  {
   "cell_type": "markdown",
   "id": "fe147534",
   "metadata": {},
   "source": [
    "### Primjena cMDS metode na podatke s 2 klase, Ambrozija i sve ostalo"
   ]
  },
  {
   "cell_type": "code",
   "execution_count": 62,
   "id": "f1bcb030",
   "metadata": {
    "scrolled": true
   },
   "outputs": [],
   "source": [
    "dim4=X1_train.shape[1]-500\n",
    "točnost_za_trening4=[]\n",
    "točnost_za_testni4=[]\n",
    "dimenzije4=[]\n",
    "while (dim4>0):\n",
    "    cMDS=impl_cMDS()\n",
    "    cMDS2=impl_cMDS()\n",
    "    \n",
    "    cMDS.fit(pairwise_distances(X1_train),d=dim4)\n",
    "    cMDS2.fit(pairwise_distances(X1_test),d=dim4)\n",
    "    \n",
    "    T=cMDS.transform()\n",
    "    Tt=cMDS2.transform()\n",
    "    lg12=LogisticRegression(random_state=0,max_iter=1000).fit(T[:,:],y1_train.ravel())\n",
    "    \n",
    "    točnost_za_trening4.append(accuracy_score(y1_train,lg12.predict(T)))\n",
    "    točnost_za_testni4.append(accuracy_score(y1_test,lg12.predict(Tt)))\n",
    "    dimenzije4.append(dim4)\n",
    "    \n",
    "    dim4=dim4-100"
   ]
  },
  {
   "cell_type": "code",
   "execution_count": 63,
   "id": "d30620ae",
   "metadata": {},
   "outputs": [
    {
     "name": "stdout",
     "output_type": "stream",
     "text": [
      "Ambrozija i ostalo - ovisnost dimenzije i točnosti na trening skupu\n"
     ]
    },
    {
     "data": {
      "image/png": "[encoded data removed]",
      "text/plain": [
       "<Figure size 432x288 with 1 Axes>"
      ]
     },
     "metadata": {
      "needs_background": "light"
     },
     "output_type": "display_data"
    },
    {
     "name": "stdout",
     "output_type": "stream",
     "text": [
      "Ambrozija i ostalo - ovisnost dimenzije i točnosti na testnom skupu\n"
     ]
    },
    {
     "data": {
      "image/png": "[encoded data removed]",
      "text/plain": [
       "<Figure size 432x288 with 1 Axes>"
      ]
     },
     "metadata": {
      "needs_background": "light"
     },
     "output_type": "display_data"
    }
   ],
   "source": [
    "print(\"Ambrozija i ostalo - ovisnost dimenzije i točnosti na trening skupu\")\n",
    "plt.scatter(dimenzije4, točnost_za_trening4)\n",
    "plt.show()\n",
    "\n",
    "print(\"Ambrozija i ostalo - ovisnost dimenzije i točnosti na testnom skupu\")\n",
    "plt.scatter(dimenzije4, točnost_za_testni4)\n",
    "plt.show()"
   ]
  },
  {
   "cell_type": "markdown",
   "id": "edd136f2",
   "metadata": {},
   "source": [
    "_______________________________________________________________________________________________________"
   ]
  },
  {
   "cell_type": "markdown",
   "id": "0fa4efe9",
   "metadata": {},
   "source": [
    "### Primjena PCA metode na podatke s 2 klase, Cedrus  i sve ostalo"
   ]
  },
  {
   "cell_type": "code",
   "execution_count": 42,
   "id": "f19e623b",
   "metadata": {},
   "outputs": [],
   "source": [
    "pollen_dictionary2={\"Alnus Glutin\":\"Artemisia Vulgaris (FRESH) \",\n",
    "           \"Alnus Glutin (Plair)\":\"Artemisia Vulgaris (FRESH) \",\n",
    "            \"Ambrosia Artemisifolia (Plair)\":\"Artemisia Vulgaris (FRESH) \",\n",
    "            \"Ambrosia Artemisifolia 2\":\"Artemisia Vulgaris (FRESH) \",\n",
    "            \"Artemisia Vulgaris (FRESH) \":\"Artemisia Vulgaris (FRESH) \",\n",
    "            \"Artemisia Vulgaris (Plair) \":\"Artemisia Vulgaris (FRESH) \",\n",
    "            \"Betula Pendula\":\"Artemisia Vulgaris (FRESH) \",\n",
    "            \"Betula Pendula (Plair)\":\"Artemisia Vulgaris (FRESH) \",\n",
    "            \"Cedrus (L. Plair)\":\"Cedrus (OCT 2013)\",\n",
    "            \"Cedrus (OCT 2013)\":\"Cedrus (OCT 2013)\",\n",
    "            \"Corylus Avelana\":\"Artemisia Vulgaris (FRESH) \",\n",
    "            \"Corylus Avelana (Plair)\":\"Artemisia Vulgaris (FRESH) \",\n",
    "            \"Quercus\":\"Artemisia Vulgaris (FRESH) \",\n",
    "            \"Quercus (Plair)\":\"Artemisia Vulgaris (FRESH) \",\n",
    "            \"Urtica Diocia\":\"Artemisia Vulgaris (FRESH) \",\n",
    "            \"Urtica Diocia (Plair)\":\"Artemisia Vulgaris (FRESH) \"\n",
    "           }"
   ]
  },
  {
   "cell_type": "code",
   "execution_count": 66,
   "id": "f5bfa127",
   "metadata": {},
   "outputs": [],
   "source": [
    "X1 = data.drop(['Pollen Type','Time'], axis=1)\n",
    "scaler = StandardScaler()\n",
    "scaler.fit(X1)\n",
    "X1 = scaler.transform(X1)\n",
    "\n",
    "X1_train, X1_test, y1_train, y1_test = train_test_split(X1, data[['Pollen Type']], test_size=0.30, random_state=42)\n",
    "\n",
    "y1_train, y1_test = y1_train.to_numpy(), y1_test.to_numpy()"
   ]
  },
  {
   "cell_type": "code",
   "execution_count": 67,
   "id": "80642408",
   "metadata": {},
   "outputs": [],
   "source": [
    "for i in range(y1_train.shape[0]):\n",
    "    y1_train[i][0]=pollen_dictionary2[y1_train[i][0]]\n",
    "    \n",
    "for i in range(y1_test.shape[0]):\n",
    "    y1_test[i][0]=pollen_dictionary2[y1_test[i][0]]"
   ]
  },
  {
   "cell_type": "code",
   "execution_count": 47,
   "id": "964d00d8",
   "metadata": {},
   "outputs": [],
   "source": [
    "dim=X1_train.shape[1]\n",
    "točnost_za_trening11=[]\n",
    "točnost_za_testni11=[]\n",
    "\n",
    "dimenzije=[]\n",
    "\n",
    "while (dim>0):\n",
    "    PCA=impl_PCA()\n",
    "    PCA2=impl_PCA()\n",
    "    \n",
    "    PCA.fit(X1_train,k=dim)\n",
    "    PCA2.fit(X1_test,k=dim)\n",
    "    \n",
    "    T=PCA.transform(X1_train)\n",
    "    Tt=PCA2.transform(X1_test)\n",
    "    lg12=LogisticRegression(random_state=0,max_iter=4000).fit(T[:,:],y1_train.ravel())\n",
    "    \n",
    "    točnost_za_trening11.append(accuracy_score(y1_train,lg12.predict(T)))\n",
    "    točnost_za_testni11.append(accuracy_score(y1_test,lg12.predict(Tt)))\n",
    "    dimenzije.append(dim)\n",
    "    \n",
    "    dim=dim-50"
   ]
  },
  {
   "cell_type": "code",
   "execution_count": 48,
   "id": "2d7eccfd",
   "metadata": {},
   "outputs": [
    {
     "name": "stdout",
     "output_type": "stream",
     "text": [
      "Cedrus (OCT 2013) i sve ostalo - ovisnost dimenzije i točnosti na trening skupu \n"
     ]
    },
    {
     "data": {
      "image/png": "[encoded data removed]",
      "text/plain": [
       "<Figure size 432x288 with 1 Axes>"
      ]
     },
     "metadata": {
      "needs_background": "light"
     },
     "output_type": "display_data"
    },
    {
     "name": "stdout",
     "output_type": "stream",
     "text": [
      "Cedrus (OCT 2013) i sve ostalo - ovisnost dimenzije i točnosti na testnom skupu\n"
     ]
    },
    {
     "data": {
      "image/png": "[encoded data removed]",
      "text/plain": [
       "<Figure size 432x288 with 1 Axes>"
      ]
     },
     "metadata": {
      "needs_background": "light"
     },
     "output_type": "display_data"
    }
   ],
   "source": [
    "print(\"Cedrus (OCT 2013) i sve ostalo - ovisnost dimenzije i točnosti na trening skupu \")\n",
    "plt.scatter(dimenzije, točnost_za_trening11)\n",
    "plt.show()\n",
    "\n",
    "print(\"Cedrus (OCT 2013) i sve ostalo - ovisnost dimenzije i točnosti na testnom skupu\")\n",
    "plt.scatter(dimenzije, točnost_za_testni11)\n",
    "plt.show()\n"
   ]
  },
  {
   "cell_type": "markdown",
   "id": "6f430ee8",
   "metadata": {},
   "source": [
    "### Primjena ICA metode na podatke s 2 klase, Cedrus i sve ostalo"
   ]
  },
  {
   "cell_type": "code",
   "execution_count": 52,
   "id": "1a14ce22",
   "metadata": {},
   "outputs": [],
   "source": [
    "dim2=X1_train.shape[1]\n",
    "točnost_za_trening2=[]\n",
    "točnost_za_testni2=[]\n",
    "dimenzije2=[]\n",
    "while (dim2>0):\n",
    "    ICA=impl_ICA()\n",
    "    ICA2=impl_ICA()\n",
    "    \n",
    "    ICA.fit(X1_train,d=dim2)\n",
    "    ICA2.fit(X1_test,d=dim2)\n",
    "    \n",
    "    T=ICA.transform(X1_train)\n",
    "    Tt=ICA2.transform(X1_test)\n",
    "    lg12=LogisticRegression(random_state=0,max_iter=6000).fit(T[:,:],y1_train[:T.shape[0]].ravel())\n",
    "    \n",
    "    točnost_za_trening2.append(accuracy_score(y1_train[:T.shape[0]],lg12.predict(T)))\n",
    "    točnost_za_testni2.append(accuracy_score(y1_test[:Tt.shape[0]],lg12.predict(Tt)))\n",
    "    dimenzije2.append(dim2)\n",
    "    \n",
    "    dim2=dim2-100"
   ]
  },
  {
   "cell_type": "code",
   "execution_count": 56,
   "id": "48ba559c",
   "metadata": {},
   "outputs": [
    {
     "name": "stdout",
     "output_type": "stream",
     "text": [
      "Cedrus (OCT 2013) i sve ostalo - ovisnost dimenzije i točnosti na trening skupu \n"
     ]
    },
    {
     "data": {
      "image/png": "[encoded data removed]",
      "text/plain": [
       "<Figure size 432x288 with 1 Axes>"
      ]
     },
     "metadata": {
      "needs_background": "light"
     },
     "output_type": "display_data"
    },
    {
     "name": "stdout",
     "output_type": "stream",
     "text": [
      "Cedrus (OCT 2013) i sve ostalo - ovisnost dimenzije i točnosti na testnom skupu\n"
     ]
    },
    {
     "data": {
      "image/png": "[encoded data removed]",
      "text/plain": [
       "<Figure size 432x288 with 1 Axes>"
      ]
     },
     "metadata": {
      "needs_background": "light"
     },
     "output_type": "display_data"
    }
   ],
   "source": [
    "print(\"Cedrus (OCT 2013) i sve ostalo - ovisnost dimenzije i točnosti na trening skupu \")\n",
    "plt.scatter(dimenzije2, točnost_za_trening2)\n",
    "plt.show()\n",
    "\n",
    "print(\"Cedrus (OCT 2013) i sve ostalo - ovisnost dimenzije i točnosti na testnom skupu\")\n",
    "plt.scatter(dimenzije2, točnost_za_testni2)\n",
    "plt.show()\n"
   ]
  },
  {
   "cell_type": "markdown",
   "id": "b3bf4f4c",
   "metadata": {},
   "source": [
    "### Primjena RP metode na podatke s 2 klase, Cedrus i sve ostalo"
   ]
  },
  {
   "cell_type": "code",
   "execution_count": 57,
   "id": "076a46b5",
   "metadata": {},
   "outputs": [],
   "source": [
    "dim3=X1_train.shape[1]\n",
    "točnost_za_trening3=[]\n",
    "točnost_za_testni3=[]\n",
    "dimenzije3=[]\n",
    "while (dim3>0):\n",
    "    RP=impl_RP()\n",
    "    RP2=impl_RP()\n",
    "    \n",
    "    RP.fit(X1_train,d=dim3)\n",
    "    RP2.fit(X1_test,d=dim3)\n",
    "    \n",
    "    T=RP.transform(X1_train)\n",
    "    Tt=RP2.transform(X1_test)\n",
    "    lg12=LogisticRegression(random_state=0,max_iter=4000).fit(T[:,:],y1_train.ravel())\n",
    "    \n",
    "    točnost_za_trening3.append(accuracy_score(y1_train,lg12.predict(T)))\n",
    "    točnost_za_testni3.append(accuracy_score(y1_test,lg12.predict(Tt)))\n",
    "    dimenzije3.append(dim3)\n",
    "    \n",
    "    dim3=dim3-50\n"
   ]
  },
  {
   "cell_type": "code",
   "execution_count": 58,
   "id": "49c472b9",
   "metadata": {},
   "outputs": [
    {
     "name": "stdout",
     "output_type": "stream",
     "text": [
      "Cedrus (OCT 2013) i sve ostalo - ovisnost dimenzije i točnosti na trening skupu \n"
     ]
    },
    {
     "data": {
      "image/png": "[encoded data removed]",
      "text/plain": [
       "<Figure size 432x288 with 1 Axes>"
      ]
     },
     "metadata": {
      "needs_background": "light"
     },
     "output_type": "display_data"
    },
    {
     "name": "stdout",
     "output_type": "stream",
     "text": [
      "Cedrus (OCT 2013) i sve ostalo - ovisnost dimenzije i točnosti na testnom skupu\n"
     ]
    },
    {
     "data": {
      "image/png": "[encoded data removed]",
      "text/plain": [
       "<Figure size 432x288 with 1 Axes>"
      ]
     },
     "metadata": {
      "needs_background": "light"
     },
     "output_type": "display_data"
    }
   ],
   "source": [
    "print(\"Cedrus (OCT 2013) i sve ostalo - ovisnost dimenzije i točnosti na trening skupu \")\n",
    "plt.scatter(dimenzije3, točnost_za_trening3)\n",
    "plt.show()\n",
    "\n",
    "print(\"Cedrus (OCT 2013) i sve ostalo - ovisnost dimenzije i točnosti na testnom skupu\")\n",
    "plt.scatter(dimenzije3, točnost_za_testni3)\n",
    "plt.show()\n"
   ]
  },
  {
   "cell_type": "markdown",
   "id": "d96f7773",
   "metadata": {},
   "source": [
    "### Primjena cMDS metode na podatke s 2 klase, Cedrud i sve ostalo"
   ]
  },
  {
   "cell_type": "code",
   "execution_count": 68,
   "id": "eeb45537",
   "metadata": {},
   "outputs": [],
   "source": [
    "dim4=X1_train.shape[1]-400\n",
    "točnost_za_trening4=[]\n",
    "točnost_za_testni4=[]\n",
    "dimenzije4=[]\n",
    "while (dim4>0):\n",
    "    cMDS=impl_cMDS()\n",
    "    cMDS2=impl_cMDS()\n",
    "    \n",
    "    cMDS.fit(pairwise_distances(X1_train),d=dim4)\n",
    "    cMDS2.fit(pairwise_distances(X1_test),d=dim4)\n",
    "    \n",
    "    T=cMDS.transform()\n",
    "    Tt=cMDS2.transform()\n",
    "    lg12=LogisticRegression(random_state=0,max_iter=1000).fit(T[:,:],y1_train.ravel())\n",
    "    \n",
    "    točnost_za_trening4.append(accuracy_score(y1_train,lg12.predict(T)))\n",
    "    točnost_za_testni4.append(accuracy_score(y1_test,lg12.predict(Tt)))\n",
    "    dimenzije4.append(dim4)\n",
    "    \n",
    "    dim4=dim4-100"
   ]
  },
  {
   "cell_type": "code",
   "execution_count": 69,
   "id": "2ace0672",
   "metadata": {},
   "outputs": [
    {
     "name": "stdout",
     "output_type": "stream",
     "text": [
      "Cedrus (OCT 2013) i sve ostalo - ovisnost dimenzije i točnosti na trening skupu \n"
     ]
    },
    {
     "data": {
      "image/png": "[encoded data removed]",
      "text/plain": [
       "<Figure size 432x288 with 1 Axes>"
      ]
     },
     "metadata": {
      "needs_background": "light"
     },
     "output_type": "display_data"
    },
    {
     "name": "stdout",
     "output_type": "stream",
     "text": [
      "Cedrus (OCT 2013) i sve ostalo - ovisnost dimenzije i točnosti na testnom skupu\n"
     ]
    },
    {
     "data": {
      "image/png": "[encoded data removed]",
      "text/plain": [
       "<Figure size 432x288 with 1 Axes>"
      ]
     },
     "metadata": {
      "needs_background": "light"
     },
     "output_type": "display_data"
    }
   ],
   "source": [
    "print(\"Cedrus (OCT 2013) i sve ostalo - ovisnost dimenzije i točnosti na trening skupu \")\n",
    "plt.scatter(dimenzije4, točnost_za_trening4)\n",
    "plt.show()\n",
    "\n",
    "print(\"Cedrus (OCT 2013) i sve ostalo - ovisnost dimenzije i točnosti na testnom skupu\")\n",
    "plt.scatter(dimenzije4, točnost_za_testni4)\n",
    "plt.show()"
   ]
  },
  {
   "cell_type": "code",
   "execution_count": null,
   "id": "3ccce50b",
   "metadata": {},
   "outputs": [],
   "source": []
  }
 ],
 "metadata": {
  "kernelspec": {
   "display_name": "Python 3",
   "language": "python",
   "name": "python3"
  },
  "language_info": {
   "codemirror_mode": {
    "name": "ipython",
    "version": 3
   },
   "file_extension": ".py",
   "mimetype": "text/x-python",
   "name": "python",
   "nbconvert_exporter": "python",
   "pygments_lexer": "ipython3",
   "version": "3.8.8"
  }
 },
 "nbformat": 4,
 "nbformat_minor": 5
}
